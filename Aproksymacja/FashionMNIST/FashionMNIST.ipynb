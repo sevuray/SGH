{
 "cells": [
  {
   "cell_type": "markdown",
   "metadata": {},
   "source": [
    "# Wstep\n",
    "Podobnie jak w pierwszym zadaniu kod opiera sie na rozwiazaniu tensorflow oraz keras.  \n",
    "Tym razem analizowany bedzie zbior fashion MNIST.  \n",
    "Przy 50 epokach model osiaga ponad 91% trafnosci na zbiorze testowym.  \n",
    "Kod był tworzony na platformie Colab i z nią na pewno będzie kompatybilny."
   ]
  },
  {
   "cell_type": "markdown",
   "metadata": {},
   "source": [
    "# Import wymaganych bibliotek"
   ]
  },
  {
   "cell_type": "code",
   "execution_count": 1,
   "metadata": {
    "id": "hpv__R8kiE_X"
   },
   "outputs": [],
   "source": [
    "#!pip install tensorflow\n",
    "import numpy as np\n",
    "import tensorflow as tf\n",
    "from tensorflow import keras\n",
    "from tensorflow.keras.models import Sequential\n",
    "from tensorflow.keras.layers import Dense,Dropout, Activation, Flatten,Convolution2D, MaxPooling2D"
   ]
  },
  {
   "cell_type": "markdown",
   "metadata": {},
   "source": [
    "# Import danych"
   ]
  },
  {
   "cell_type": "code",
   "execution_count": 2,
   "metadata": {
    "colab": {
     "base_uri": "https://localhost:8080/"
    },
    "id": "cmUXiHxQjSHe",
    "outputId": "0aa56c65-f0ce-442f-dd04-f049892fec86"
   },
   "outputs": [
    {
     "name": "stdout",
     "output_type": "stream",
     "text": [
      "Downloading data from https://storage.googleapis.com/tensorflow/tf-keras-datasets/train-labels-idx1-ubyte.gz\n",
      "32768/29515 [=================================] - 0s 0us/step\n",
      "Downloading data from https://storage.googleapis.com/tensorflow/tf-keras-datasets/train-images-idx3-ubyte.gz\n",
      "26427392/26421880 [==============================] - 0s 0us/step\n",
      "Downloading data from https://storage.googleapis.com/tensorflow/tf-keras-datasets/t10k-labels-idx1-ubyte.gz\n",
      "8192/5148 [===============================================] - 0s 0us/step\n",
      "Downloading data from https://storage.googleapis.com/tensorflow/tf-keras-datasets/t10k-images-idx3-ubyte.gz\n",
      "4423680/4422102 [==============================] - 0s 0us/step\n",
      "x_train (60000, 28, 28, 1)\n",
      "y_train (60000,)\n",
      "x_test (10000, 28, 28, 1)\n",
      "y_test (10000,)\n"
     ]
    }
   ],
   "source": [
    "(x_train, y_train), (x_test, y_test) = tf.keras.datasets.fashion_mnist.load_data()\n",
    "\n",
    "#Przygotowanie zmiennych\n",
    "x_train = x_train.astype(\"float32\") / 255\n",
    "x_test = x_test.astype(\"float32\") / 255\n",
    "\n",
    "x_train = np.expand_dims(x_train, -1)\n",
    "x_test = np.expand_dims(x_test, -1)\n",
    "\n",
    "print(\"x_train\", x_train.shape)\n",
    "print(\"y_train\", y_train.shape)\n",
    "print(\"x_test\", x_test.shape)\n",
    "print(\"y_test\", y_test.shape)"
   ]
  },
  {
   "cell_type": "code",
   "execution_count": 3,
   "metadata": {
    "id": "JniiVr8GjVS9"
   },
   "outputs": [],
   "source": [
    "#Predefiniowanie parametrow\n",
    "\n",
    "batch_size = 64\n",
    "nb_classes = 10\n",
    "nb_ephochs = 50\n",
    "img_rows = 28\n",
    "img_cols = 28\n",
    "nb_filters = 32\n",
    "pool_size = 2\n",
    "kernel_size = 3\n",
    "input_shape = (img_rows,img_cols,1)\n",
    "\n",
    "##################################################################################\n",
    "##################################################################################\n",
    "\n",
    "#Budowa modelu\n",
    "def model_def(nb_filters,kernel_size,input_shape):\n",
    "    \n",
    "    model = Sequential()\n",
    "    model.add(Convolution2D(filters= nb_filters,kernel_size=(kernel_size,kernel_size),input_shape = input_shape,activation='relu'))\n",
    "    model.add(MaxPooling2D(pool_size=(pool_size,pool_size)))\n",
    "\n",
    "    model.add(Convolution2D(filters=nb_filters, kernel_size=(kernel_size,kernel_size),activation='relu'))\n",
    "    model.add(MaxPooling2D(pool_size=(pool_size,pool_size)))\n",
    "\n",
    "    model.add(Dropout(0.25))\n",
    "    model.add(Flatten())\n",
    "\n",
    "    model.add(Dense(units = 128, activation=\"relu\"))\n",
    "    model.add(Dropout(0.5))\n",
    "    model.add(Dense(units = nb_classes, activation='softmax'))\n",
    "    model.compile(loss = 'categorical_crossentropy', optimizer = 'adam', metrics = ['accuracy'])\n",
    "    return model"
   ]
  },
  {
   "cell_type": "markdown",
   "metadata": {},
   "source": [
    "# Podsumowanie modelu"
   ]
  },
  {
   "cell_type": "code",
   "execution_count": 4,
   "metadata": {
    "colab": {
     "base_uri": "https://localhost:8080/"
    },
    "id": "nL93sV3Yjbpz",
    "outputId": "51edb17b-4a78-430a-f0ad-83aba263efc3"
   },
   "outputs": [
    {
     "name": "stdout",
     "output_type": "stream",
     "text": [
      "Model: \"sequential\"\n",
      "_________________________________________________________________\n",
      "Layer (type)                 Output Shape              Param #   \n",
      "=================================================================\n",
      "conv2d (Conv2D)              (None, 26, 26, 32)        320       \n",
      "_________________________________________________________________\n",
      "max_pooling2d (MaxPooling2D) (None, 13, 13, 32)        0         \n",
      "_________________________________________________________________\n",
      "conv2d_1 (Conv2D)            (None, 11, 11, 32)        9248      \n",
      "_________________________________________________________________\n",
      "max_pooling2d_1 (MaxPooling2 (None, 5, 5, 32)          0         \n",
      "_________________________________________________________________\n",
      "dropout (Dropout)            (None, 5, 5, 32)          0         \n",
      "_________________________________________________________________\n",
      "flatten (Flatten)            (None, 800)               0         \n",
      "_________________________________________________________________\n",
      "dense (Dense)                (None, 128)               102528    \n",
      "_________________________________________________________________\n",
      "dropout_1 (Dropout)          (None, 128)               0         \n",
      "_________________________________________________________________\n",
      "dense_1 (Dense)              (None, 10)                1290      \n",
      "=================================================================\n",
      "Total params: 113,386\n",
      "Trainable params: 113,386\n",
      "Non-trainable params: 0\n",
      "_________________________________________________________________\n",
      "None\n"
     ]
    }
   ],
   "source": [
    "model = model_def(nb_filters,kernel_size,input_shape)\n",
    "print(model.summary())"
   ]
  },
  {
   "cell_type": "markdown",
   "metadata": {},
   "source": [
    "# Uczenie modelu "
   ]
  },
  {
   "cell_type": "code",
   "execution_count": 5,
   "metadata": {
    "colab": {
     "base_uri": "https://localhost:8080/"
    },
    "id": "aCDcL58bjg6L",
    "outputId": "7c5929f6-ad23-4c55-cc18-d44c6334c452"
   },
   "outputs": [
    {
     "name": "stdout",
     "output_type": "stream",
     "text": [
      "Epoch 1/50\n",
      "938/938 [==============================] - 28s 29ms/step - loss: 0.6465 - accuracy: 0.7637\n",
      "Epoch 2/50\n",
      "938/938 [==============================] - 28s 29ms/step - loss: 0.4387 - accuracy: 0.8385\n",
      "Epoch 3/50\n",
      "938/938 [==============================] - 28s 30ms/step - loss: 0.3878 - accuracy: 0.8579\n",
      "Epoch 4/50\n",
      "938/938 [==============================] - 28s 29ms/step - loss: 0.3543 - accuracy: 0.8717\n",
      "Epoch 5/50\n",
      "938/938 [==============================] - 28s 29ms/step - loss: 0.3334 - accuracy: 0.8783\n",
      "Epoch 6/50\n",
      "938/938 [==============================] - 28s 29ms/step - loss: 0.3178 - accuracy: 0.8846\n",
      "Epoch 7/50\n",
      "938/938 [==============================] - 28s 30ms/step - loss: 0.3035 - accuracy: 0.8888\n",
      "Epoch 8/50\n",
      "938/938 [==============================] - 28s 30ms/step - loss: 0.2895 - accuracy: 0.8936\n",
      "Epoch 9/50\n",
      "938/938 [==============================] - 28s 30ms/step - loss: 0.2813 - accuracy: 0.8965\n",
      "Epoch 10/50\n",
      "938/938 [==============================] - 28s 29ms/step - loss: 0.2727 - accuracy: 0.9008\n",
      "Epoch 11/50\n",
      "938/938 [==============================] - 28s 30ms/step - loss: 0.2655 - accuracy: 0.9030\n",
      "Epoch 12/50\n",
      "938/938 [==============================] - 28s 30ms/step - loss: 0.2599 - accuracy: 0.9038\n",
      "Epoch 13/50\n",
      "938/938 [==============================] - 28s 30ms/step - loss: 0.2531 - accuracy: 0.9068\n",
      "Epoch 14/50\n",
      "938/938 [==============================] - 28s 30ms/step - loss: 0.2523 - accuracy: 0.9061\n",
      "Epoch 15/50\n",
      "938/938 [==============================] - 28s 30ms/step - loss: 0.2461 - accuracy: 0.9085\n",
      "Epoch 16/50\n",
      "938/938 [==============================] - 28s 30ms/step - loss: 0.2426 - accuracy: 0.9104\n",
      "Epoch 17/50\n",
      "938/938 [==============================] - 28s 30ms/step - loss: 0.2371 - accuracy: 0.9117\n",
      "Epoch 18/50\n",
      "938/938 [==============================] - 28s 30ms/step - loss: 0.2330 - accuracy: 0.9121\n",
      "Epoch 19/50\n",
      "938/938 [==============================] - 28s 30ms/step - loss: 0.2300 - accuracy: 0.9142\n",
      "Epoch 20/50\n",
      "938/938 [==============================] - 28s 30ms/step - loss: 0.2264 - accuracy: 0.9154\n",
      "Epoch 21/50\n",
      "938/938 [==============================] - 28s 30ms/step - loss: 0.2220 - accuracy: 0.9160\n",
      "Epoch 22/50\n",
      "938/938 [==============================] - 28s 30ms/step - loss: 0.2196 - accuracy: 0.9177\n",
      "Epoch 23/50\n",
      "938/938 [==============================] - 28s 30ms/step - loss: 0.2173 - accuracy: 0.9184\n",
      "Epoch 24/50\n",
      "938/938 [==============================] - 28s 30ms/step - loss: 0.2154 - accuracy: 0.9195\n",
      "Epoch 25/50\n",
      "938/938 [==============================] - 28s 30ms/step - loss: 0.2087 - accuracy: 0.9215\n",
      "Epoch 26/50\n",
      "938/938 [==============================] - 28s 30ms/step - loss: 0.2142 - accuracy: 0.9189\n",
      "Epoch 27/50\n",
      "938/938 [==============================] - 28s 30ms/step - loss: 0.2090 - accuracy: 0.9222\n",
      "Epoch 28/50\n",
      "938/938 [==============================] - 28s 30ms/step - loss: 0.2048 - accuracy: 0.9222\n",
      "Epoch 29/50\n",
      "938/938 [==============================] - 28s 29ms/step - loss: 0.2089 - accuracy: 0.9216\n",
      "Epoch 30/50\n",
      "938/938 [==============================] - 28s 30ms/step - loss: 0.2038 - accuracy: 0.9241\n",
      "Epoch 31/50\n",
      "938/938 [==============================] - 28s 30ms/step - loss: 0.2035 - accuracy: 0.9239\n",
      "Epoch 32/50\n",
      "938/938 [==============================] - 28s 30ms/step - loss: 0.2022 - accuracy: 0.9228\n",
      "Epoch 33/50\n",
      "938/938 [==============================] - 28s 30ms/step - loss: 0.1998 - accuracy: 0.9246\n",
      "Epoch 34/50\n",
      "938/938 [==============================] - 28s 30ms/step - loss: 0.1960 - accuracy: 0.9258\n",
      "Epoch 35/50\n",
      "938/938 [==============================] - 28s 30ms/step - loss: 0.1969 - accuracy: 0.9260\n",
      "Epoch 36/50\n",
      "938/938 [==============================] - 28s 30ms/step - loss: 0.1961 - accuracy: 0.9255\n",
      "Epoch 37/50\n",
      "938/938 [==============================] - 28s 30ms/step - loss: 0.1942 - accuracy: 0.9270\n",
      "Epoch 38/50\n",
      "938/938 [==============================] - 28s 30ms/step - loss: 0.1920 - accuracy: 0.9275\n",
      "Epoch 39/50\n",
      "938/938 [==============================] - 28s 30ms/step - loss: 0.1901 - accuracy: 0.9276\n",
      "Epoch 40/50\n",
      "938/938 [==============================] - 28s 30ms/step - loss: 0.1878 - accuracy: 0.9278\n",
      "Epoch 41/50\n",
      "938/938 [==============================] - 28s 30ms/step - loss: 0.1881 - accuracy: 0.9281\n",
      "Epoch 42/50\n",
      "938/938 [==============================] - 28s 30ms/step - loss: 0.1874 - accuracy: 0.9287\n",
      "Epoch 43/50\n",
      "938/938 [==============================] - 28s 30ms/step - loss: 0.1857 - accuracy: 0.9300\n",
      "Epoch 44/50\n",
      "938/938 [==============================] - 28s 30ms/step - loss: 0.1851 - accuracy: 0.9300\n",
      "Epoch 45/50\n",
      "938/938 [==============================] - 28s 30ms/step - loss: 0.1814 - accuracy: 0.9306\n",
      "Epoch 46/50\n",
      "938/938 [==============================] - 28s 30ms/step - loss: 0.1837 - accuracy: 0.9302\n",
      "Epoch 47/50\n",
      "938/938 [==============================] - 28s 30ms/step - loss: 0.1813 - accuracy: 0.9315\n",
      "Epoch 48/50\n",
      "938/938 [==============================] - 28s 30ms/step - loss: 0.1808 - accuracy: 0.9307\n",
      "Epoch 49/50\n",
      "938/938 [==============================] - 28s 30ms/step - loss: 0.1823 - accuracy: 0.9305\n",
      "Epoch 50/50\n",
      "938/938 [==============================] - 28s 30ms/step - loss: 0.1772 - accuracy: 0.9312\n"
     ]
    },
    {
     "data": {
      "text/plain": [
       "<tensorflow.python.keras.callbacks.History at 0x7fdcb03c8250>"
      ]
     },
     "execution_count": 5,
     "metadata": {
      "tags": []
     },
     "output_type": "execute_result"
    }
   ],
   "source": [
    "model.compile(loss = keras.losses.sparse_categorical_crossentropy, optimizer= \"adam\", metrics = ['accuracy'])\n",
    "model.fit(x_train, y_train, batch_size=batch_size, epochs=nb_ephochs)"
   ]
  },
  {
   "cell_type": "markdown",
   "metadata": {},
   "source": [
    "# Oszacowanie wynikow na zbiorze testowym"
   ]
  },
  {
   "cell_type": "code",
   "execution_count": 6,
   "metadata": {
    "colab": {
     "base_uri": "https://localhost:8080/"
    },
    "id": "EwO1siJDvQti",
    "outputId": "eed194e8-6542-4603-83d7-1b9a90ad34ff"
   },
   "outputs": [
    {
     "name": "stdout",
     "output_type": "stream",
     "text": [
      "Najnizsza wartosc loss na zbiorze test: 0.24764074385166168\n",
      "Najwyzsza wartosc accuracy na zbiorze test: 0.9186999797821045\n"
     ]
    }
   ],
   "source": [
    "score = model.evaluate(x_test,y_test, verbose=0)\n",
    "print(\"Najnizsza wartosc loss na zbiorze test:\", score[0])\n",
    "print(\"Najwyzsza wartosc accuracy na zbiorze test:\", score[1])"
   ]
  },
  {
   "cell_type": "code",
   "execution_count": 7,
   "metadata": {
    "colab": {
     "base_uri": "https://localhost:8080/"
    },
    "id": "F_g3a1ncXTsD",
    "outputId": "c1235ea9-4b2a-4a17-e6a8-9be135de0618"
   },
   "outputs": [
    {
     "name": "stdout",
     "output_type": "stream",
     "text": [
      "INFO:tensorflow:Assets written to: aproksymacja2021/assets\n"
     ]
    }
   ],
   "source": [
    "model.save('aproksymacja2021')"
   ]
  }
 ],
 "metadata": {
  "colab": {
   "name": "Final_ostatni.ipynb",
   "provenance": []
  },
  "kernelspec": {
   "display_name": "Python 3",
   "language": "python",
   "name": "python3"
  },
  "language_info": {
   "codemirror_mode": {
    "name": "ipython",
    "version": 3
   },
   "file_extension": ".py",
   "mimetype": "text/x-python",
   "name": "python",
   "nbconvert_exporter": "python",
   "pygments_lexer": "ipython3",
   "version": "3.8.8"
  }
 },
 "nbformat": 4,
 "nbformat_minor": 1
}
