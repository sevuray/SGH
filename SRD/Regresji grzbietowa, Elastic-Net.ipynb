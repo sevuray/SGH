{
 "cells": [
  {
   "cell_type": "markdown",
   "metadata": {},
   "source": [
    "# Regresji grzbietowa i Elastic-Net, alfa = lambda"
   ]
  },
  {
   "cell_type": "markdown",
   "metadata": {},
   "source": [
    "# Import bibliotek"
   ]
  },
  {
   "cell_type": "code",
   "execution_count": 1,
   "metadata": {},
   "outputs": [],
   "source": [
    "import pandas as pd\n",
    "import numpy as np\n",
    "from sklearn.model_selection import train_test_split\n",
    "from sklearn.linear_model import Ridge\n",
    "from sklearn.metrics import confusion_matrix\n",
    "from sklearn.linear_model import ElasticNet"
   ]
  },
  {
   "cell_type": "markdown",
   "metadata": {},
   "source": [
    "# Import danych"
   ]
  },
  {
   "cell_type": "code",
   "execution_count": 2,
   "metadata": {},
   "outputs": [],
   "source": [
    "data_read = np.loadtxt(\"http://archive.ics.uci.edu/ml/machine-learning-databases/statlog/australian/australian.dat\")\n",
    "df = pd.DataFrame(data_read)\n",
    "data = df.rename(columns = {14: 'class'})"
   ]
  },
  {
   "cell_type": "markdown",
   "metadata": {},
   "source": [
    "# Funkcja normalizacji danych"
   ]
  },
  {
   "cell_type": "code",
   "execution_count": null,
   "metadata": {},
   "outputs": [],
   "source": [
    "def scale(df): \n",
    "    data_scale = df.copy()\n",
    "    for column in data_scale.columns:\n",
    "        data_scale[column] = (data_scale[column] - data_scale[column].mean()) / data_scale[column].std()\n",
    "        return data_scale"
   ]
  },
  {
   "cell_type": "markdown",
   "metadata": {},
   "source": [
    "# Podzial danych / normalizacja"
   ]
  },
  {
   "cell_type": "code",
   "execution_count": 3,
   "metadata": {},
   "outputs": [],
   "source": [
    "x = data.drop(columns=['class'])\n",
    "y = pd.DataFrame(data['class'])\n",
    "\n",
    "#Normalizacja\n",
    "xscale = scale(x)\n",
    "\n",
    "#Losowy podzial danych na zbiór treningowy (80%) i testowy (20%) \n",
    "xtrain, xtest, ytrain, ytest = train_test_split(xscale,y, test_size = .20)"
   ]
  },
  {
   "cell_type": "markdown",
   "metadata": {},
   "source": [
    "# Regresja grzbietowa"
   ]
  },
  {
   "cell_type": "code",
   "execution_count": 4,
   "metadata": {},
   "outputs": [],
   "source": [
    "#Funkcja uczaca model dla zmiennego poziomu alfa\n",
    "\n",
    "def reg_grzbietowa(alfa):\n",
    "    ridge_reg = Ridge(alpha = alfa)\n",
    "    ridge_reg.fit(xtrain, ytrain)\n",
    "    ypred = ridge_reg.predict(xtest)\n",
    "    ypred_df = pd.DataFrame(ypred,columns=['ypred'])\n",
    "    return ypred_df"
   ]
  },
  {
   "cell_type": "code",
   "execution_count": 5,
   "metadata": {},
   "outputs": [
    {
     "name": "stdout",
     "output_type": "stream",
     "text": [
      "Trafnosc dla alpha 1: 0.8695652173913043\n"
     ]
    }
   ],
   "source": [
    "#Obliczanie trafnosci dla alpha = 1\n",
    "tn, fp, fn, tp = confusion_matrix(ytest,reg_grzbietowa(1) > 0.5).ravel()\n",
    "\n",
    "accuracy =((tp + tn)/(tn + fp + fn + tp))\n",
    "print ('Trafnosc dla alpha 1:', accuracy)"
   ]
  },
  {
   "cell_type": "code",
   "execution_count": 6,
   "metadata": {},
   "outputs": [
    {
     "name": "stdout",
     "output_type": "stream",
     "text": [
      "0.00001      0.869565\n",
      "0.00010      0.869565\n",
      "0.00100      0.869565\n",
      "0.01000      0.869565\n",
      "0.02000      0.869565\n",
      "               ...   \n",
      "950.00000    0.775362\n",
      "960.00000    0.775362\n",
      "970.00000    0.775362\n",
      "980.00000    0.775362\n",
      "990.00000    0.775362\n",
      "Length: 203, dtype: float64\n",
      "Najwyzsza trafnosc: 0.8768115942028986\n",
      "Alpha dal tej trafnosci: 60.0\n"
     ]
    }
   ],
   "source": [
    "#Funkcja wyliczajaca optymalna wartosc alpha\n",
    "alpha_values = np.concatenate((0.00001,0.0001,0.001,np.arange(0.01, 1.01, 0.01), np.arange(0, 1000, 10)),axis=None)\n",
    "\n",
    "wyniki = {}\n",
    "for punkt in alpha_values:\n",
    "    tn2, fp2, fn2, tp2 = confusion_matrix(ytest,reg_grzbietowa(punkt) > 0.5).ravel()\n",
    "    accuracy=((tp2 + tn2)/(tn2 + fp2 + fn2 + tp2))\n",
    "    wyniki[punkt] = accuracy\n",
    "\n",
    "wyniki = pd.Series(wyniki)\n",
    "print(wyniki)\n",
    "najwyzsza_trafnosc = wyniki.iloc[wyniki.argmax()]\n",
    "najlepsza_alpha = wyniki.iloc[wyniki.argmax():wyniki.argmax() + 1].index[0]\n",
    "print('Najwyzsza trafnosc:',najwyzsza_trafnosc)\n",
    "print('Alpha dal tej trafnosci:',najlepsza_alpha)"
   ]
  },
  {
   "cell_type": "markdown",
   "metadata": {},
   "source": [
    "# Elastic Net"
   ]
  },
  {
   "cell_type": "code",
   "execution_count": 7,
   "metadata": {},
   "outputs": [],
   "source": [
    "#Funkcja uczaca model dla zmiennego poziomu alfa oraz l1 ratio\n",
    "\n",
    "def elastic_net(alfa, l1ratio):\n",
    "    elastic_net = ElasticNet(alpha = alfa, l1_ratio = l1ratio)\n",
    "    elastic_net.fit(xtrain, ytrain)\n",
    "    ypred_elastic = elastic_net.predict(xtest)\n",
    "    ypred_elastic_df = pd.DataFrame(ypred_elastic,columns = ['ypred'])\n",
    "    return ypred_elastic_df"
   ]
  },
  {
   "cell_type": "code",
   "execution_count": 8,
   "metadata": {},
   "outputs": [
    {
     "name": "stdout",
     "output_type": "stream",
     "text": [
      "Trafnosc dla alpha 1 / l1 ratio 0.5: 0.7318840579710145\n"
     ]
    }
   ],
   "source": [
    "#Obliczanie trafnosci dla alpha = 1 / l1 ratio = 0,5\n",
    "tn2, fp2, fn2, tp2 = confusion_matrix(ytest,elastic_net(1,0.5) > 0.5).ravel()\n",
    "\n",
    "accuracy_elastic=((tp2 + tn2)/(tn2 + fp2 + fn2 + tp2))\n",
    "print ('Trafnosc dla alpha 1 / l1 ratio 0.5:', accuracy_elastic)"
   ]
  },
  {
   "cell_type": "markdown",
   "metadata": {},
   "source": [
    "# Funkcja wyliczajaca trafnosc dla roznych kombinacji alpha i l1 ratio.  \n",
    "Oczywiscie mozna powiekszyc przeszukiwane zbiory alpha oraz l1 ratio aby znalezc dokladniejszy wynik.  \n",
    "Na potrzeby zadania zdecydowalem sie jednak ograniczyc liczbe potencjalnych odpowiedzi w celu przyspieszenia  \n",
    "dzialania funkcji"
   ]
  },
  {
   "cell_type": "code",
   "execution_count": 10,
   "metadata": {},
   "outputs": [
    {
     "name": "stdout",
     "output_type": "stream",
     "text": [
      "      accuracy      alpha    l1\n",
      "0     0.869565    0.00001  0.01\n",
      "1     0.869565    0.00001  0.02\n",
      "2     0.869565    0.00001  0.03\n",
      "3     0.869565    0.00001  0.04\n",
      "4     0.869565    0.00001  0.05\n",
      "...        ...        ...   ...\n",
      "1183  0.565217  160.00000  0.95\n",
      "1184  0.565217  160.00000  0.96\n",
      "1185  0.565217  160.00000  0.97\n",
      "1186  0.565217  160.00000  0.98\n",
      "1187  0.565217  160.00000  0.99\n",
      "\n",
      "[1188 rows x 3 columns]\n",
      "Najwyzsza trafnosci: 0.8840579710144928\n",
      "Wartosc alpha dla takiego wyniku 0.1\n",
      "Wartosc l1 dla takiego wyniku 0.060000000000000005\n"
     ]
    }
   ],
   "source": [
    "l1_ratio_values = np.arange(0.01, 1, 0.01)\n",
    "alpha_values_elastic = [0.00001,0.0001,0.001,0.01,0.1,1,5,10,20,40,80,160]\n",
    "wyniki_elastic = pd.DataFrame()\n",
    "\n",
    "for x in alpha_values_elastic:\n",
    "    for y in l1_ratio_values:\n",
    "        elasticdf = elastic_net(x, y) \n",
    "        tn, fp, fn, tp = confusion_matrix(ytest,elastic_net(x,y) > 0.5).ravel()\n",
    "        accuracy =((tp + tn)/(tn + fp + fn + tp))\n",
    "        dic = {'alpha':x , 'l1':y, 'accuracy':accuracy}\n",
    "        wyniki_elastic = wyniki_elastic.append(dic, ignore_index = True)\n",
    "\n",
    "print(wyniki_elastic)\n",
    "print('Najwyzsza trafnosci:',wyniki_elastic['accuracy'].max())\n",
    "print('Wartosc alpha dla takiego wyniku',wyniki_elastic['alpha'][wyniki_elastic['accuracy'].idxmax()])\n",
    "print('Wartosc l1 dla takiego wyniku',wyniki_elastic['l1'][wyniki_elastic['accuracy'].idxmax()])"
   ]
  }
 ],
 "metadata": {
  "kernelspec": {
   "display_name": "Python 3",
   "language": "python",
   "name": "python3"
  },
  "language_info": {
   "codemirror_mode": {
    "name": "ipython",
    "version": 3
   },
   "file_extension": ".py",
   "mimetype": "text/x-python",
   "name": "python",
   "nbconvert_exporter": "python",
   "pygments_lexer": "ipython3",
   "version": "3.8.8"
  }
 },
 "nbformat": 4,
 "nbformat_minor": 4
}
